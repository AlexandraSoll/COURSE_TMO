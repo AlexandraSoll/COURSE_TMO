{
 "cells": [
  {
   "cell_type": "markdown",
   "id": "cdd222b6",
   "metadata": {},
   "source": [
    "# Лабораторная работа №3\n",
    "\n",
    "## Подготовка обучающей и тестовой выборки, кросс-валидация и подбор гиперпараметров на примере метода ближайших соседей.\n",
    "\n",
    "### Задание:\n",
    "\n",
    "1. Выберите набор данных (датасет) для решения задачи классификации или регрессии.\n",
    "2. С использованием метода train_test_split разделите выборку на обучающую и тестовую.\n",
    "3. Обучите модель ближайших соседей для произвольно заданного гиперпараметра K. Оцените качество модели с помощью подходящих для задачи метрик.\n",
    "4. Произведите подбор гиперпараметра K с использованием GridSearchCV и/или RandomizedSearchCV и кросс-валидации, оцените качество оптимальной модели. Желательно использование нескольких стратегий кросс-валидации.\n",
    "5. Сравните метрики качества исходной и оптимальной моделей.\n"
   ]
  },
  {
   "cell_type": "code",
   "execution_count": 1,
   "id": "daa9e6bb",
   "metadata": {},
   "outputs": [],
   "source": [
    "import sys\n",
    "sys.path\n",
    "import pandas as pd\n",
    "import numpy as np\n",
    "np.seterr(divide='ignore', invalid='ignore')\n",
    "import seaborn as sns\n",
    "import matplotlib.pyplot as plt\n",
    "%matplotlib inline \n",
    "import warnings\n",
    "warnings.simplefilter(action=\"ignore\", category=FutureWarning)"
   ]
  },
  {
   "cell_type": "code",
   "execution_count": 2,
   "id": "2a354927",
   "metadata": {},
   "outputs": [],
   "source": [
    "df = pd.read_csv('world_population.csv')"
   ]
  },
  {
   "cell_type": "markdown",
   "id": "97ddf6b8",
   "metadata": {},
   "source": [
    "### Основные характеристики датасета"
   ]
  },
  {
   "cell_type": "code",
   "execution_count": 3,
   "id": "d14f2c9c",
   "metadata": {},
   "outputs": [
    {
     "data": {
      "text/html": [
       "<div>\n",
       "<style scoped>\n",
       "    .dataframe tbody tr th:only-of-type {\n",
       "        vertical-align: middle;\n",
       "    }\n",
       "\n",
       "    .dataframe tbody tr th {\n",
       "        vertical-align: top;\n",
       "    }\n",
       "\n",
       "    .dataframe thead th {\n",
       "        text-align: right;\n",
       "    }\n",
       "</style>\n",
       "<table border=\"1\" class=\"dataframe\">\n",
       "  <thead>\n",
       "    <tr style=\"text-align: right;\">\n",
       "      <th></th>\n",
       "      <th>Rank</th>\n",
       "      <th>CCA3</th>\n",
       "      <th>Country/Territory</th>\n",
       "      <th>Capital</th>\n",
       "      <th>Continent</th>\n",
       "      <th>2022 Population</th>\n",
       "      <th>2020 Population</th>\n",
       "      <th>2015 Population</th>\n",
       "      <th>2010 Population</th>\n",
       "      <th>2000 Population</th>\n",
       "      <th>1990 Population</th>\n",
       "      <th>1980 Population</th>\n",
       "      <th>1970 Population</th>\n",
       "      <th>Area (km²)</th>\n",
       "      <th>Density (per km²)</th>\n",
       "      <th>Growth Rate</th>\n",
       "      <th>World Population Percentage</th>\n",
       "    </tr>\n",
       "  </thead>\n",
       "  <tbody>\n",
       "    <tr>\n",
       "      <th>0</th>\n",
       "      <td>36</td>\n",
       "      <td>AFG</td>\n",
       "      <td>Afghanistan</td>\n",
       "      <td>Kabul</td>\n",
       "      <td>Asia</td>\n",
       "      <td>41128771</td>\n",
       "      <td>38972230</td>\n",
       "      <td>33753499</td>\n",
       "      <td>28189672</td>\n",
       "      <td>19542982</td>\n",
       "      <td>10694796</td>\n",
       "      <td>12486631</td>\n",
       "      <td>10752971</td>\n",
       "      <td>652230</td>\n",
       "      <td>63.0587</td>\n",
       "      <td>1.0257</td>\n",
       "      <td>0.52</td>\n",
       "    </tr>\n",
       "    <tr>\n",
       "      <th>1</th>\n",
       "      <td>138</td>\n",
       "      <td>ALB</td>\n",
       "      <td>Albania</td>\n",
       "      <td>Tirana</td>\n",
       "      <td>Europe</td>\n",
       "      <td>2842321</td>\n",
       "      <td>2866849</td>\n",
       "      <td>2882481</td>\n",
       "      <td>2913399</td>\n",
       "      <td>3182021</td>\n",
       "      <td>3295066</td>\n",
       "      <td>2941651</td>\n",
       "      <td>2324731</td>\n",
       "      <td>28748</td>\n",
       "      <td>98.8702</td>\n",
       "      <td>0.9957</td>\n",
       "      <td>0.04</td>\n",
       "    </tr>\n",
       "    <tr>\n",
       "      <th>2</th>\n",
       "      <td>34</td>\n",
       "      <td>DZA</td>\n",
       "      <td>Algeria</td>\n",
       "      <td>Algiers</td>\n",
       "      <td>Africa</td>\n",
       "      <td>44903225</td>\n",
       "      <td>43451666</td>\n",
       "      <td>39543154</td>\n",
       "      <td>35856344</td>\n",
       "      <td>30774621</td>\n",
       "      <td>25518074</td>\n",
       "      <td>18739378</td>\n",
       "      <td>13795915</td>\n",
       "      <td>2381741</td>\n",
       "      <td>18.8531</td>\n",
       "      <td>1.0164</td>\n",
       "      <td>0.56</td>\n",
       "    </tr>\n",
       "    <tr>\n",
       "      <th>3</th>\n",
       "      <td>213</td>\n",
       "      <td>ASM</td>\n",
       "      <td>American Samoa</td>\n",
       "      <td>Pago Pago</td>\n",
       "      <td>Oceania</td>\n",
       "      <td>44273</td>\n",
       "      <td>46189</td>\n",
       "      <td>51368</td>\n",
       "      <td>54849</td>\n",
       "      <td>58230</td>\n",
       "      <td>47818</td>\n",
       "      <td>32886</td>\n",
       "      <td>27075</td>\n",
       "      <td>199</td>\n",
       "      <td>222.4774</td>\n",
       "      <td>0.9831</td>\n",
       "      <td>0.00</td>\n",
       "    </tr>\n",
       "    <tr>\n",
       "      <th>4</th>\n",
       "      <td>203</td>\n",
       "      <td>AND</td>\n",
       "      <td>Andorra</td>\n",
       "      <td>Andorra la Vella</td>\n",
       "      <td>Europe</td>\n",
       "      <td>79824</td>\n",
       "      <td>77700</td>\n",
       "      <td>71746</td>\n",
       "      <td>71519</td>\n",
       "      <td>66097</td>\n",
       "      <td>53569</td>\n",
       "      <td>35611</td>\n",
       "      <td>19860</td>\n",
       "      <td>468</td>\n",
       "      <td>170.5641</td>\n",
       "      <td>1.0100</td>\n",
       "      <td>0.00</td>\n",
       "    </tr>\n",
       "  </tbody>\n",
       "</table>\n",
       "</div>"
      ],
      "text/plain": [
       "   Rank CCA3 Country/Territory           Capital Continent  2022 Population  \\\n",
       "0    36  AFG       Afghanistan             Kabul      Asia         41128771   \n",
       "1   138  ALB           Albania            Tirana    Europe          2842321   \n",
       "2    34  DZA           Algeria           Algiers    Africa         44903225   \n",
       "3   213  ASM    American Samoa         Pago Pago   Oceania            44273   \n",
       "4   203  AND           Andorra  Andorra la Vella    Europe            79824   \n",
       "\n",
       "   2020 Population  2015 Population  2010 Population  2000 Population  \\\n",
       "0         38972230         33753499         28189672         19542982   \n",
       "1          2866849          2882481          2913399          3182021   \n",
       "2         43451666         39543154         35856344         30774621   \n",
       "3            46189            51368            54849            58230   \n",
       "4            77700            71746            71519            66097   \n",
       "\n",
       "   1990 Population  1980 Population  1970 Population  Area (km²)  \\\n",
       "0         10694796         12486631         10752971      652230   \n",
       "1          3295066          2941651          2324731       28748   \n",
       "2         25518074         18739378         13795915     2381741   \n",
       "3            47818            32886            27075         199   \n",
       "4            53569            35611            19860         468   \n",
       "\n",
       "   Density (per km²)  Growth Rate  World Population Percentage  \n",
       "0            63.0587       1.0257                         0.52  \n",
       "1            98.8702       0.9957                         0.04  \n",
       "2            18.8531       1.0164                         0.56  \n",
       "3           222.4774       0.9831                         0.00  \n",
       "4           170.5641       1.0100                         0.00  "
      ]
     },
     "execution_count": 3,
     "metadata": {},
     "output_type": "execute_result"
    }
   ],
   "source": [
    "# Выведем первые 5 строк из выбранного датасета.\n",
    "df.head()"
   ]
  },
  {
   "cell_type": "code",
   "execution_count": 4,
   "id": "6b1066fc",
   "metadata": {},
   "outputs": [
    {
     "name": "stdout",
     "output_type": "stream",
     "text": [
      "Всего строк: 234\n",
      "Всего колонок: 17\n"
     ]
    }
   ],
   "source": [
    "total_count = df.shape[0]\n",
    "print('Всего строк: {}'.format(total_count))\n",
    "total_count = df.shape[1]\n",
    "print('Всего колонок: {}'.format(total_count))"
   ]
  },
  {
   "cell_type": "code",
   "execution_count": 5,
   "id": "6dcbea85",
   "metadata": {},
   "outputs": [
    {
     "data": {
      "text/plain": [
       "Rank                             int64\n",
       "CCA3                            object\n",
       "Country/Territory               object\n",
       "Capital                         object\n",
       "Continent                       object\n",
       "2022 Population                  int64\n",
       "2020 Population                  int64\n",
       "2015 Population                  int64\n",
       "2010 Population                  int64\n",
       "2000 Population                  int64\n",
       "1990 Population                  int64\n",
       "1980 Population                  int64\n",
       "1970 Population                  int64\n",
       "Area (km²)                       int64\n",
       "Density (per km²)              float64\n",
       "Growth Rate                    float64\n",
       "World Population Percentage    float64\n",
       "dtype: object"
      ]
     },
     "execution_count": 5,
     "metadata": {},
     "output_type": "execute_result"
    }
   ],
   "source": [
    "# Выведем список колонок с типами данных.\n",
    "df.dtypes"
   ]
  },
  {
   "cell_type": "markdown",
   "id": "3abe7052",
   "metadata": {},
   "source": [
    "### Проверка на пустые значения в датасете"
   ]
  },
  {
   "cell_type": "code",
   "execution_count": 6,
   "id": "3147f428",
   "metadata": {},
   "outputs": [
    {
     "name": "stdout",
     "output_type": "stream",
     "text": [
      "Rank - 0\n",
      "CCA3 - 0\n",
      "Country/Territory - 0\n",
      "Capital - 0\n",
      "Continent - 0\n",
      "2022 Population - 0\n",
      "2020 Population - 0\n",
      "2015 Population - 0\n",
      "2010 Population - 0\n",
      "2000 Population - 0\n",
      "1990 Population - 0\n",
      "1980 Population - 0\n",
      "1970 Population - 0\n",
      "Area (km²) - 0\n",
      "Density (per km²) - 0\n",
      "Growth Rate - 0\n",
      "World Population Percentage - 0\n"
     ]
    }
   ],
   "source": [
    "for col_empty in df.columns:\n",
    "    empty_count = df[df[col_empty].isnull()].shape[0]\n",
    "    print('{} - {}'.format(col_empty, empty_count))"
   ]
  },
  {
   "cell_type": "code",
   "execution_count": 7,
   "id": "22c026e2",
   "metadata": {},
   "outputs": [
    {
     "data": {
      "text/plain": [
       "Rank                           0\n",
       "CCA3                           0\n",
       "Country/Territory              0\n",
       "Capital                        0\n",
       "Continent                      0\n",
       "2022 Population                0\n",
       "2020 Population                0\n",
       "2015 Population                0\n",
       "2010 Population                0\n",
       "2000 Population                0\n",
       "1990 Population                0\n",
       "1980 Population                0\n",
       "1970 Population                0\n",
       "Area (km²)                     0\n",
       "Density (per km²)              0\n",
       "Growth Rate                    0\n",
       "World Population Percentage    0\n",
       "dtype: int64"
      ]
     },
     "execution_count": 7,
     "metadata": {},
     "output_type": "execute_result"
    }
   ],
   "source": [
    "# Проверка на пропущенные данные\n",
    "df.isnull().sum()"
   ]
  },
  {
   "cell_type": "markdown",
   "id": "4d553254",
   "metadata": {},
   "source": [
    "### Диаграмма рассеяния"
   ]
  },
  {
   "cell_type": "code",
   "execution_count": 10,
   "id": "40c70235",
   "metadata": {},
   "outputs": [
    {
     "data": {
      "text/plain": [
       "<matplotlib.collections.PathCollection at 0x17b45edf040>"
      ]
     },
     "execution_count": 10,
     "metadata": {},
     "output_type": "execute_result"
    },
    {
     "data": {
      "image/png": "[encoded data removed]",
      "text/plain": [
       "<Figure size 640x480 with 1 Axes>"
      ]
     },
     "metadata": {},
     "output_type": "display_data"
    }
   ],
   "source": [
    "plt.scatter(df['2022 Population'],df['2020 Population'])"
   ]
  },
  {
   "cell_type": "code",
   "execution_count": 11,
   "id": "d71a81ec",
   "metadata": {},
   "outputs": [
    {
     "data": {
      "text/plain": [
       "<matplotlib.collections.PathCollection at 0x17b466e61d0>"
      ]
     },
     "execution_count": 11,
     "metadata": {},
     "output_type": "execute_result"
    },
    {
     "data": {
      "image/png": "[encoded data removed]",
      "text/plain": [
       "<Figure size 640x480 with 1 Axes>"
      ]
     },
     "metadata": {},
     "output_type": "display_data"
    }
   ],
   "source": [
    "plt.scatter(df['2022 Population'],df['2015 Population'])"
   ]
  },
  {
   "cell_type": "code",
   "execution_count": 12,
   "id": "91ba1dad",
   "metadata": {},
   "outputs": [],
   "source": [
    "X = df[['2020 Population', '2015 Population']]\n",
    "Y = df['2022 Population']"
   ]
  },
  {
   "cell_type": "code",
   "execution_count": 13,
   "id": "c5520c4f",
   "metadata": {},
   "outputs": [
    {
     "data": {
      "text/html": [
       "<div>\n",
       "<style scoped>\n",
       "    .dataframe tbody tr th:only-of-type {\n",
       "        vertical-align: middle;\n",
       "    }\n",
       "\n",
       "    .dataframe tbody tr th {\n",
       "        vertical-align: top;\n",
       "    }\n",
       "\n",
       "    .dataframe thead th {\n",
       "        text-align: right;\n",
       "    }\n",
       "</style>\n",
       "<table border=\"1\" class=\"dataframe\">\n",
       "  <thead>\n",
       "    <tr style=\"text-align: right;\">\n",
       "      <th></th>\n",
       "      <th>2020 Population</th>\n",
       "      <th>2015 Population</th>\n",
       "    </tr>\n",
       "  </thead>\n",
       "  <tbody>\n",
       "    <tr>\n",
       "      <th>0</th>\n",
       "      <td>38972230</td>\n",
       "      <td>33753499</td>\n",
       "    </tr>\n",
       "    <tr>\n",
       "      <th>1</th>\n",
       "      <td>2866849</td>\n",
       "      <td>2882481</td>\n",
       "    </tr>\n",
       "    <tr>\n",
       "      <th>2</th>\n",
       "      <td>43451666</td>\n",
       "      <td>39543154</td>\n",
       "    </tr>\n",
       "    <tr>\n",
       "      <th>3</th>\n",
       "      <td>46189</td>\n",
       "      <td>51368</td>\n",
       "    </tr>\n",
       "    <tr>\n",
       "      <th>4</th>\n",
       "      <td>77700</td>\n",
       "      <td>71746</td>\n",
       "    </tr>\n",
       "    <tr>\n",
       "      <th>...</th>\n",
       "      <td>...</td>\n",
       "      <td>...</td>\n",
       "    </tr>\n",
       "    <tr>\n",
       "      <th>229</th>\n",
       "      <td>11655</td>\n",
       "      <td>12182</td>\n",
       "    </tr>\n",
       "    <tr>\n",
       "      <th>230</th>\n",
       "      <td>556048</td>\n",
       "      <td>491824</td>\n",
       "    </tr>\n",
       "    <tr>\n",
       "      <th>231</th>\n",
       "      <td>32284046</td>\n",
       "      <td>28516545</td>\n",
       "    </tr>\n",
       "    <tr>\n",
       "      <th>232</th>\n",
       "      <td>18927715</td>\n",
       "      <td>16248230</td>\n",
       "    </tr>\n",
       "    <tr>\n",
       "      <th>233</th>\n",
       "      <td>15669666</td>\n",
       "      <td>14154937</td>\n",
       "    </tr>\n",
       "  </tbody>\n",
       "</table>\n",
       "<p>234 rows × 2 columns</p>\n",
       "</div>"
      ],
      "text/plain": [
       "     2020 Population  2015 Population\n",
       "0           38972230         33753499\n",
       "1            2866849          2882481\n",
       "2           43451666         39543154\n",
       "3              46189            51368\n",
       "4              77700            71746\n",
       "..               ...              ...\n",
       "229            11655            12182\n",
       "230           556048           491824\n",
       "231         32284046         28516545\n",
       "232         18927715         16248230\n",
       "233         15669666         14154937\n",
       "\n",
       "[234 rows x 2 columns]"
      ]
     },
     "execution_count": 13,
     "metadata": {},
     "output_type": "execute_result"
    }
   ],
   "source": [
    "# Выведем по оси абсцисс. \n",
    "X"
   ]
  },
  {
   "cell_type": "code",
   "execution_count": 14,
   "id": "64787e1a",
   "metadata": {},
   "outputs": [
    {
     "data": {
      "text/plain": [
       "0      41128771\n",
       "1       2842321\n",
       "2      44903225\n",
       "3         44273\n",
       "4         79824\n",
       "         ...   \n",
       "229       11572\n",
       "230      575986\n",
       "231    33696614\n",
       "232    20017675\n",
       "233    16320537\n",
       "Name: 2022 Population, Length: 234, dtype: int64"
      ]
     },
     "execution_count": 14,
     "metadata": {},
     "output_type": "execute_result"
    }
   ],
   "source": [
    "# Выведем по оси ординат. \n",
    "Y"
   ]
  },
  {
   "cell_type": "markdown",
   "id": "5327bd42",
   "metadata": {},
   "source": [
    "### Разделение выборки на обучающую и тестовую"
   ]
  },
  {
   "cell_type": "code",
   "execution_count": 15,
   "id": "72f12841",
   "metadata": {},
   "outputs": [],
   "source": [
    "from sklearn.model_selection import train_test_split"
   ]
  },
  {
   "cell_type": "code",
   "execution_count": 16,
   "id": "b36312cd",
   "metadata": {},
   "outputs": [],
   "source": [
    "X_train, X_test, Y_train, Y_test = train_test_split(X,Y,test_size=0.2)"
   ]
  },
  {
   "cell_type": "code",
   "execution_count": 17,
   "id": "2d70d151",
   "metadata": {},
   "outputs": [
    {
     "data": {
      "text/plain": [
       "187"
      ]
     },
     "execution_count": 17,
     "metadata": {},
     "output_type": "execute_result"
    }
   ],
   "source": [
    "# Вернет 80% от общего размера данных\n",
    "len(X_train)"
   ]
  },
  {
   "cell_type": "code",
   "execution_count": 18,
   "id": "7bebe10f",
   "metadata": {},
   "outputs": [
    {
     "data": {
      "text/plain": [
       "47"
      ]
     },
     "execution_count": 18,
     "metadata": {},
     "output_type": "execute_result"
    }
   ],
   "source": [
    "len(X_test)"
   ]
  },
  {
   "cell_type": "code",
   "execution_count": 19,
   "id": "226d34b6",
   "metadata": {},
   "outputs": [
    {
     "data": {
      "text/html": [
       "<div>\n",
       "<style scoped>\n",
       "    .dataframe tbody tr th:only-of-type {\n",
       "        vertical-align: middle;\n",
       "    }\n",
       "\n",
       "    .dataframe tbody tr th {\n",
       "        vertical-align: top;\n",
       "    }\n",
       "\n",
       "    .dataframe thead th {\n",
       "        text-align: right;\n",
       "    }\n",
       "</style>\n",
       "<table border=\"1\" class=\"dataframe\">\n",
       "  <thead>\n",
       "    <tr style=\"text-align: right;\">\n",
       "      <th></th>\n",
       "      <th>2020 Population</th>\n",
       "      <th>2015 Population</th>\n",
       "    </tr>\n",
       "  </thead>\n",
       "  <tbody>\n",
       "    <tr>\n",
       "      <th>63</th>\n",
       "      <td>117190911</td>\n",
       "      <td>102471895</td>\n",
       "    </tr>\n",
       "    <tr>\n",
       "      <th>228</th>\n",
       "      <td>96648685</td>\n",
       "      <td>92191398</td>\n",
       "    </tr>\n",
       "    <tr>\n",
       "      <th>127</th>\n",
       "      <td>370391</td>\n",
       "      <td>383515</td>\n",
       "    </tr>\n",
       "    <tr>\n",
       "      <th>168</th>\n",
       "      <td>5702174</td>\n",
       "      <td>5064386</td>\n",
       "    </tr>\n",
       "    <tr>\n",
       "      <th>182</th>\n",
       "      <td>35997107</td>\n",
       "      <td>32749848</td>\n",
       "    </tr>\n",
       "    <tr>\n",
       "      <th>...</th>\n",
       "      <td>...</td>\n",
       "      <td>...</td>\n",
       "    </tr>\n",
       "    <tr>\n",
       "      <th>164</th>\n",
       "      <td>38428366</td>\n",
       "      <td>38553146</td>\n",
       "    </tr>\n",
       "    <tr>\n",
       "      <th>70</th>\n",
       "      <td>301920</td>\n",
       "      <td>291787</td>\n",
       "    </tr>\n",
       "    <tr>\n",
       "      <th>45</th>\n",
       "      <td>5123105</td>\n",
       "      <td>4895242</td>\n",
       "    </tr>\n",
       "    <tr>\n",
       "      <th>88</th>\n",
       "      <td>10121763</td>\n",
       "      <td>9294505</td>\n",
       "    </tr>\n",
       "    <tr>\n",
       "      <th>147</th>\n",
       "      <td>6755895</td>\n",
       "      <td>6298598</td>\n",
       "    </tr>\n",
       "  </tbody>\n",
       "</table>\n",
       "<p>187 rows × 2 columns</p>\n",
       "</div>"
      ],
      "text/plain": [
       "     2020 Population  2015 Population\n",
       "63         117190911        102471895\n",
       "228         96648685         92191398\n",
       "127           370391           383515\n",
       "168          5702174          5064386\n",
       "182         35997107         32749848\n",
       "..               ...              ...\n",
       "164         38428366         38553146\n",
       "70            301920           291787\n",
       "45           5123105          4895242\n",
       "88          10121763          9294505\n",
       "147          6755895          6298598\n",
       "\n",
       "[187 rows x 2 columns]"
      ]
     },
     "execution_count": 19,
     "metadata": {},
     "output_type": "execute_result"
    }
   ],
   "source": [
    "X_train"
   ]
  },
  {
   "cell_type": "code",
   "execution_count": 20,
   "id": "f1715a9d",
   "metadata": {},
   "outputs": [],
   "source": [
    "X_train, X_test, Y_train, Y_test = train_test_split(X,Y,test_size=0.2, random_state=10)"
   ]
  },
  {
   "cell_type": "code",
   "execution_count": 21,
   "id": "84e6634a",
   "metadata": {},
   "outputs": [
    {
     "data": {
      "text/html": [
       "<div>\n",
       "<style scoped>\n",
       "    .dataframe tbody tr th:only-of-type {\n",
       "        vertical-align: middle;\n",
       "    }\n",
       "\n",
       "    .dataframe tbody tr th {\n",
       "        vertical-align: top;\n",
       "    }\n",
       "\n",
       "    .dataframe thead th {\n",
       "        text-align: right;\n",
       "    }\n",
       "</style>\n",
       "<table border=\"1\" class=\"dataframe\">\n",
       "  <thead>\n",
       "    <tr style=\"text-align: right;\">\n",
       "      <th></th>\n",
       "      <th>2020 Population</th>\n",
       "      <th>2015 Population</th>\n",
       "    </tr>\n",
       "  </thead>\n",
       "  <tbody>\n",
       "    <tr>\n",
       "      <th>142</th>\n",
       "      <td>12315</td>\n",
       "      <td>11185</td>\n",
       "    </tr>\n",
       "    <tr>\n",
       "      <th>154</th>\n",
       "      <td>5379839</td>\n",
       "      <td>5190356</td>\n",
       "    </tr>\n",
       "    <tr>\n",
       "      <th>1</th>\n",
       "      <td>2866849</td>\n",
       "      <td>2882481</td>\n",
       "    </tr>\n",
       "    <tr>\n",
       "      <th>2</th>\n",
       "      <td>43451666</td>\n",
       "      <td>39543154</td>\n",
       "    </tr>\n",
       "    <tr>\n",
       "      <th>61</th>\n",
       "      <td>1329444</td>\n",
       "      <td>1314657</td>\n",
       "    </tr>\n",
       "    <tr>\n",
       "      <th>...</th>\n",
       "      <td>...</td>\n",
       "      <td>...</td>\n",
       "    </tr>\n",
       "    <tr>\n",
       "      <th>64</th>\n",
       "      <td>3747</td>\n",
       "      <td>3408</td>\n",
       "    </tr>\n",
       "    <tr>\n",
       "      <th>15</th>\n",
       "      <td>1477469</td>\n",
       "      <td>1362142</td>\n",
       "    </tr>\n",
       "    <tr>\n",
       "      <th>228</th>\n",
       "      <td>96648685</td>\n",
       "      <td>92191398</td>\n",
       "    </tr>\n",
       "    <tr>\n",
       "      <th>125</th>\n",
       "      <td>515357</td>\n",
       "      <td>456579</td>\n",
       "    </tr>\n",
       "    <tr>\n",
       "      <th>9</th>\n",
       "      <td>2805608</td>\n",
       "      <td>2878595</td>\n",
       "    </tr>\n",
       "  </tbody>\n",
       "</table>\n",
       "<p>187 rows × 2 columns</p>\n",
       "</div>"
      ],
      "text/plain": [
       "     2020 Population  2015 Population\n",
       "142            12315            11185\n",
       "154          5379839          5190356\n",
       "1            2866849          2882481\n",
       "2           43451666         39543154\n",
       "61           1329444          1314657\n",
       "..               ...              ...\n",
       "64              3747             3408\n",
       "15           1477469          1362142\n",
       "228         96648685         92191398\n",
       "125           515357           456579\n",
       "9            2805608          2878595\n",
       "\n",
       "[187 rows x 2 columns]"
      ]
     },
     "execution_count": 21,
     "metadata": {},
     "output_type": "execute_result"
    }
   ],
   "source": [
    "X_train"
   ]
  },
  {
   "cell_type": "code",
   "execution_count": 22,
   "id": "08cc9b54",
   "metadata": {},
   "outputs": [],
   "source": [
    "# Используем нашу модель линейной регресии\n",
    "from sklearn.linear_model import LinearRegression\n",
    "clf = LinearRegression()"
   ]
  },
  {
   "cell_type": "code",
   "execution_count": 23,
   "id": "82627f9f",
   "metadata": {},
   "outputs": [
    {
     "data": {
      "text/html": [
       "<style>#sk-container-id-1 {color: black;background-color: white;}#sk-container-id-1 pre{padding: 0;}#sk-container-id-1 div.sk-toggleable {background-color: white;}#sk-container-id-1 label.sk-toggleable__label {cursor: pointer;display: block;width: 100%;margin-bottom: 0;padding: 0.3em;box-sizing: border-box;text-align: center;}#sk-container-id-1 label.sk-toggleable__label-arrow:before {content: \"▸\";float: left;margin-right: 0.25em;color: #696969;}#sk-container-id-1 label.sk-toggleable__label-arrow:hover:before {color: black;}#sk-container-id-1 div.sk-estimator:hover label.sk-toggleable__label-arrow:before {color: black;}#sk-container-id-1 div.sk-toggleable__content {max-height: 0;max-width: 0;overflow: hidden;text-align: left;background-color: #f0f8ff;}#sk-container-id-1 div.sk-toggleable__content pre {margin: 0.2em;color: black;border-radius: 0.25em;background-color: #f0f8ff;}#sk-container-id-1 input.sk-toggleable__control:checked~div.sk-toggleable__content {max-height: 200px;max-width: 100%;overflow: auto;}#sk-container-id-1 input.sk-toggleable__control:checked~label.sk-toggleable__label-arrow:before {content: \"▾\";}#sk-container-id-1 div.sk-estimator input.sk-toggleable__control:checked~label.sk-toggleable__label {background-color: #d4ebff;}#sk-container-id-1 div.sk-label input.sk-toggleable__control:checked~label.sk-toggleable__label {background-color: #d4ebff;}#sk-container-id-1 input.sk-hidden--visually {border: 0;clip: rect(1px 1px 1px 1px);clip: rect(1px, 1px, 1px, 1px);height: 1px;margin: -1px;overflow: hidden;padding: 0;position: absolute;width: 1px;}#sk-container-id-1 div.sk-estimator {font-family: monospace;background-color: #f0f8ff;border: 1px dotted black;border-radius: 0.25em;box-sizing: border-box;margin-bottom: 0.5em;}#sk-container-id-1 div.sk-estimator:hover {background-color: #d4ebff;}#sk-container-id-1 div.sk-parallel-item::after {content: \"\";width: 100%;border-bottom: 1px solid gray;flex-grow: 1;}#sk-container-id-1 div.sk-label:hover label.sk-toggleable__label {background-color: #d4ebff;}#sk-container-id-1 div.sk-serial::before {content: \"\";position: absolute;border-left: 1px solid gray;box-sizing: border-box;top: 0;bottom: 0;left: 50%;z-index: 0;}#sk-container-id-1 div.sk-serial {display: flex;flex-direction: column;align-items: center;background-color: white;padding-right: 0.2em;padding-left: 0.2em;position: relative;}#sk-container-id-1 div.sk-item {position: relative;z-index: 1;}#sk-container-id-1 div.sk-parallel {display: flex;align-items: stretch;justify-content: center;background-color: white;position: relative;}#sk-container-id-1 div.sk-item::before, #sk-container-id-1 div.sk-parallel-item::before {content: \"\";position: absolute;border-left: 1px solid gray;box-sizing: border-box;top: 0;bottom: 0;left: 50%;z-index: -1;}#sk-container-id-1 div.sk-parallel-item {display: flex;flex-direction: column;z-index: 1;position: relative;background-color: white;}#sk-container-id-1 div.sk-parallel-item:first-child::after {align-self: flex-end;width: 50%;}#sk-container-id-1 div.sk-parallel-item:last-child::after {align-self: flex-start;width: 50%;}#sk-container-id-1 div.sk-parallel-item:only-child::after {width: 0;}#sk-container-id-1 div.sk-dashed-wrapped {border: 1px dashed gray;margin: 0 0.4em 0.5em 0.4em;box-sizing: border-box;padding-bottom: 0.4em;background-color: white;}#sk-container-id-1 div.sk-label label {font-family: monospace;font-weight: bold;display: inline-block;line-height: 1.2em;}#sk-container-id-1 div.sk-label-container {text-align: center;}#sk-container-id-1 div.sk-container {/* jupyter's `normalize.less` sets `[hidden] { display: none; }` but bootstrap.min.css set `[hidden] { display: none !important; }` so we also need the `!important` here to be able to override the default hidden behavior on the sphinx rendered scikit-learn.org. See: https://github.com/scikit-learn/scikit-learn/issues/21755 */display: inline-block !important;position: relative;}#sk-container-id-1 div.sk-text-repr-fallback {display: none;}</style><div id=\"sk-container-id-1\" class=\"sk-top-container\"><div class=\"sk-text-repr-fallback\"><pre>LinearRegression()</pre><b>In a Jupyter environment, please rerun this cell to show the HTML representation or trust the notebook. <br />On GitHub, the HTML representation is unable to render, please try loading this page with nbviewer.org.</b></div><div class=\"sk-container\" hidden><div class=\"sk-item\"><div class=\"sk-estimator sk-toggleable\"><input class=\"sk-toggleable__control sk-hidden--visually\" id=\"sk-estimator-id-1\" type=\"checkbox\" checked><label for=\"sk-estimator-id-1\" class=\"sk-toggleable__label sk-toggleable__label-arrow\">LinearRegression</label><div class=\"sk-toggleable__content\"><pre>LinearRegression()</pre></div></div></div></div></div>"
      ],
      "text/plain": [
       "LinearRegression()"
      ]
     },
     "execution_count": 23,
     "metadata": {},
     "output_type": "execute_result"
    }
   ],
   "source": [
    "# Обучим нашу модель\n",
    "clf.fit(X_train,Y_train)"
   ]
  },
  {
   "cell_type": "code",
   "execution_count": 24,
   "id": "ab2ce074",
   "metadata": {},
   "outputs": [
    {
     "data": {
      "text/plain": [
       "array([2.67584650e+06, 1.41955496e+05, 1.73167846e+07, 3.73306870e+07,\n",
       "       3.98481314e+05, 9.37076269e+04, 1.12060338e+07, 2.25562519e+07,\n",
       "       6.92104771e+04, 3.67852427e+05, 2.18059424e+08, 2.72532496e+07,\n",
       "       7.13662758e+07, 7.20587662e+04, 5.30485005e+06, 3.41971951e+05,\n",
       "       1.32520130e+06, 6.29740369e+06, 1.15911986e+07, 7.37238105e+05,\n",
       "       2.15231466e+06, 2.17365410e+05, 1.73887010e+06, 1.81245673e+07,\n",
       "       6.58509601e+05, 4.70694541e+07, 6.41934879e+07, 1.22641554e+07,\n",
       "       5.45551387e+06, 8.63469854e+06, 1.16353204e+07, 2.37695752e+07,\n",
       "       3.85903898e+07, 9.88362991e+07, 1.28760964e+06, 4.92590489e+04,\n",
       "       1.15538212e+08, 1.23048836e+08, 2.13611722e+07, 1.23182214e+08,\n",
       "       6.64545566e+06, 4.70622756e+06, 4.46112366e+05, 2.63110708e+05,\n",
       "       3.56989765e+07, 2.12949370e+06, 4.18415921e+05])"
      ]
     },
     "execution_count": 24,
     "metadata": {},
     "output_type": "execute_result"
    }
   ],
   "source": [
    "clf.predict(X_test)"
   ]
  },
  {
   "cell_type": "code",
   "execution_count": 25,
   "id": "71909e9a",
   "metadata": {},
   "outputs": [
    {
     "data": {
      "text/plain": [
       "26       2630296\n",
       "210       106858\n",
       "183     17316449\n",
       "138     37457971\n",
       "127       367507\n",
       "78         56466\n",
       "47      11212191\n",
       "124     22593590\n",
       "176        31791\n",
       "130       326101\n",
       "149    218541212\n",
       "227     28301696\n",
       "206     71697030\n",
       "180        33660\n",
       "114      5302681\n",
       "70        306279\n",
       "129      1299469\n",
       "58       6336392\n",
       "87      11584996\n",
       "119       695168\n",
       "190      2119844\n",
       "175       179857\n",
       "59       1674908\n",
       "56      18001000\n",
       "136       627082\n",
       "198     46874204\n",
       "68      64626628\n",
       "24      12224110\n",
       "189      5643453\n",
       "186      8605718\n",
       "19      11655930\n",
       "203     23893394\n",
       "35      38454327\n",
       "55      99010212\n",
       "49       1251488\n",
       "173        10967\n",
       "163    115559009\n",
       "102    123951692\n",
       "202     22125249\n",
       "63     123379924\n",
       "109      6630623\n",
       "155      4576298\n",
       "20        405272\n",
       "181       227380\n",
       "5       35588987\n",
       "152      2093599\n",
       "91        372899\n",
       "Name: 2022 Population, dtype: int64"
      ]
     },
     "execution_count": 25,
     "metadata": {},
     "output_type": "execute_result"
    }
   ],
   "source": [
    "Y_test"
   ]
  },
  {
   "cell_type": "code",
   "execution_count": 26,
   "id": "0227d048",
   "metadata": {},
   "outputs": [
    {
     "data": {
      "text/plain": [
       "0.9999633273400184"
      ]
     },
     "execution_count": 26,
     "metadata": {},
     "output_type": "execute_result"
    }
   ],
   "source": [
    "# Означает, что точность составляет 99%\n",
    "clf.score(X_test,Y_test)"
   ]
  },
  {
   "cell_type": "code",
   "execution_count": 27,
   "id": "07efe9eb",
   "metadata": {},
   "outputs": [],
   "source": [
    "from sklearn.preprocessing import MinMaxScaler, StandardScaler"
   ]
  },
  {
   "cell_type": "code",
   "execution_count": 28,
   "id": "bd7a6354",
   "metadata": {},
   "outputs": [
    {
     "data": {
      "text/html": [
       "<div>\n",
       "<style scoped>\n",
       "    .dataframe tbody tr th:only-of-type {\n",
       "        vertical-align: middle;\n",
       "    }\n",
       "\n",
       "    .dataframe tbody tr th {\n",
       "        vertical-align: top;\n",
       "    }\n",
       "\n",
       "    .dataframe thead th {\n",
       "        text-align: right;\n",
       "    }\n",
       "</style>\n",
       "<table border=\"1\" class=\"dataframe\">\n",
       "  <thead>\n",
       "    <tr style=\"text-align: right;\">\n",
       "      <th></th>\n",
       "      <th>2020 Population</th>\n",
       "      <th>2015 Population</th>\n",
       "    </tr>\n",
       "  </thead>\n",
       "  <tbody>\n",
       "    <tr>\n",
       "      <th>count</th>\n",
       "      <td>187.000000</td>\n",
       "      <td>187.000000</td>\n",
       "    </tr>\n",
       "    <tr>\n",
       "      <th>mean</th>\n",
       "      <td>0.025031</td>\n",
       "      <td>0.024345</td>\n",
       "    </tr>\n",
       "    <tr>\n",
       "      <th>std</th>\n",
       "      <td>0.105401</td>\n",
       "      <td>0.103739</td>\n",
       "    </tr>\n",
       "    <tr>\n",
       "      <th>min</th>\n",
       "      <td>0.000000</td>\n",
       "      <td>0.000000</td>\n",
       "    </tr>\n",
       "    <tr>\n",
       "      <th>25%</th>\n",
       "      <td>0.000297</td>\n",
       "      <td>0.000294</td>\n",
       "    </tr>\n",
       "    <tr>\n",
       "      <th>50%</th>\n",
       "      <td>0.003775</td>\n",
       "      <td>0.003633</td>\n",
       "    </tr>\n",
       "    <tr>\n",
       "      <th>75%</th>\n",
       "      <td>0.013621</td>\n",
       "      <td>0.013126</td>\n",
       "    </tr>\n",
       "    <tr>\n",
       "      <th>max</th>\n",
       "      <td>1.000000</td>\n",
       "      <td>1.000000</td>\n",
       "    </tr>\n",
       "  </tbody>\n",
       "</table>\n",
       "</div>"
      ],
      "text/plain": [
       "       2020 Population  2015 Population\n",
       "count       187.000000       187.000000\n",
       "mean          0.025031         0.024345\n",
       "std           0.105401         0.103739\n",
       "min           0.000000         0.000000\n",
       "25%           0.000297         0.000294\n",
       "50%           0.003775         0.003633\n",
       "75%           0.013621         0.013126\n",
       "max           1.000000         1.000000"
      ]
     },
     "execution_count": 28,
     "metadata": {},
     "output_type": "execute_result"
    }
   ],
   "source": [
    "scaler = MinMaxScaler().fit(X_train)\n",
    "X_train = pd.DataFrame(scaler.transform(X_train), columns=X_train.columns)\n",
    "X_test = pd.DataFrame(scaler.transform(X_test), columns=X_train.columns)\n",
    "X_train.describe()"
   ]
  },
  {
   "cell_type": "markdown",
   "id": "854ab17d",
   "metadata": {},
   "source": [
    "### Обучение KNN с произвольным k"
   ]
  },
  {
   "cell_type": "code",
   "execution_count": 29,
   "id": "58891edf",
   "metadata": {},
   "outputs": [],
   "source": [
    "from sklearn.metrics import mean_absolute_error, mean_squared_error, r2_score\n",
    "from sklearn.neighbors import KNeighborsRegressor"
   ]
  },
  {
   "cell_type": "code",
   "execution_count": 30,
   "id": "87008b15",
   "metadata": {},
   "outputs": [],
   "source": [
    "def print_metrics(Y_test, Y_pred):\n",
    "    print(f\"R^2: {r2_score(Y_test, Y_pred)}\")\n",
    "    print(f\"MSE: {mean_squared_error(Y_test, Y_pred)}\")\n",
    "    print(f\"MAE: {mean_absolute_error(Y_test, Y_pred)}\")"
   ]
  },
  {
   "cell_type": "code",
   "execution_count": 31,
   "id": "f9cb58d2",
   "metadata": {},
   "outputs": [],
   "source": [
    "def print_cv_result(cv_model, X_test, Y_test):\n",
    "    print(f'Оптимизация метрики {cv_model.scoring}: {cv_model.best_score_}')\n",
    "    print(f'Лучший параметр: {cv_model.best_params_}')\n",
    "    print('Метрики на тестовом наборе')\n",
    "    print_metrics(Y_test, cv_model.predict(X_test))\n",
    "    print()"
   ]
  },
  {
   "cell_type": "code",
   "execution_count": 32,
   "id": "c76e16c6",
   "metadata": {},
   "outputs": [
    {
     "name": "stdout",
     "output_type": "stream",
     "text": [
      "Test metrics for KNN with k=7\n",
      "\n",
      "R^2: 0.9775593132072161\n",
      "MSE: 42984187842339.65\n",
      "MAE: 2427398.1762917927\n"
     ]
    }
   ],
   "source": [
    "base_k = 7\n",
    "base_knn = KNeighborsRegressor(n_neighbors=base_k)\n",
    "base_knn.fit(X_train, Y_train)\n",
    "Y_pred_base = base_knn.predict(X_test)\n",
    "print(f'Test metrics for KNN with k={base_k}\\n')\n",
    "print_metrics(Y_test, Y_pred_base)"
   ]
  },
  {
   "cell_type": "markdown",
   "id": "089e696b",
   "metadata": {},
   "source": [
    "### Кросс-валидация"
   ]
  },
  {
   "cell_type": "code",
   "execution_count": 33,
   "id": "5c9d4cd7",
   "metadata": {},
   "outputs": [],
   "source": [
    "from sklearn.model_selection import GridSearchCV, RandomizedSearchCV"
   ]
  },
  {
   "cell_type": "code",
   "execution_count": 34,
   "id": "a9cc9bfd",
   "metadata": {},
   "outputs": [
    {
     "name": "stdout",
     "output_type": "stream",
     "text": [
      "Результаты кросс-валидации при cv=5\n",
      "\n",
      "Оптимизация метрики r2: 0.9906506734328223\n",
      "Лучший параметр: {'n_neighbors': 1}\n",
      "Метрики на тестовом наборе\n",
      "R^2: 0.9960340462145656\n",
      "MSE: 7596616986872.681\n",
      "MAE: 1217833.6170212766\n",
      "\n",
      "Оптимизация метрики neg_mean_squared_error: -50386986573844.67\n",
      "Лучший параметр: {'n_neighbors': 1}\n",
      "Метрики на тестовом наборе\n",
      "R^2: 0.9960340462145656\n",
      "MSE: 7596616986872.681\n",
      "MAE: 1217833.6170212766\n",
      "\n",
      "Оптимизация метрики neg_mean_absolute_error: -2164595.715647226\n",
      "Лучший параметр: {'n_neighbors': 1}\n",
      "Метрики на тестовом наборе\n",
      "R^2: 0.9960340462145656\n",
      "MSE: 7596616986872.681\n",
      "MAE: 1217833.6170212766\n",
      "\n",
      "Результаты кросс-валидации при cv=10\n",
      "\n",
      "Оптимизация метрики r2: 0.9822247986476296\n",
      "Лучший параметр: {'n_neighbors': 1}\n",
      "Метрики на тестовом наборе\n",
      "R^2: 0.9960340462145656\n",
      "MSE: 7596616986872.681\n",
      "MAE: 1217833.6170212766\n",
      "\n",
      "Оптимизация метрики neg_mean_squared_error: -51410300165699.664\n",
      "Лучший параметр: {'n_neighbors': 1}\n",
      "Метрики на тестовом наборе\n",
      "R^2: 0.9960340462145656\n",
      "MSE: 7596616986872.681\n",
      "MAE: 1217833.6170212766\n",
      "\n",
      "Оптимизация метрики neg_mean_absolute_error: -2181273.5023391815\n",
      "Лучший параметр: {'n_neighbors': 1}\n",
      "Метрики на тестовом наборе\n",
      "R^2: 0.9960340462145656\n",
      "MSE: 7596616986872.681\n",
      "MAE: 1217833.6170212766\n",
      "\n"
     ]
    }
   ],
   "source": [
    "metrics = ['r2', 'neg_mean_squared_error', 'neg_mean_absolute_error']\n",
    "cv_values = [5, 10]\n",
    "\n",
    "for cv in cv_values:\n",
    "    print(f'Результаты кросс-валидации при cv={cv}\\n')\n",
    "    for metric in metrics:    \n",
    "        params = {'n_neighbors': range(1, 30)}\n",
    "        knn_cv = GridSearchCV(KNeighborsRegressor(), params, cv=cv, scoring=metric, n_jobs=-1)\n",
    "        knn_cv.fit(X_train, Y_train)\n",
    "        print_cv_result(knn_cv, X_test, Y_test)"
   ]
  },
  {
   "cell_type": "code",
   "execution_count": 35,
   "id": "7fc9de5d",
   "metadata": {},
   "outputs": [],
   "source": [
    "best_k = 4\n",
    "Y_pred_best = KNeighborsRegressor(n_neighbors=best_k).fit(X_train, Y_train).predict(X_test)"
   ]
  },
  {
   "cell_type": "markdown",
   "id": "8e426785",
   "metadata": {},
   "source": [
    "### Сравнение исходной и оптимальной модели"
   ]
  },
  {
   "cell_type": "code",
   "execution_count": 36,
   "id": "287305db",
   "metadata": {},
   "outputs": [
    {
     "name": "stdout",
     "output_type": "stream",
     "text": [
      "Basic model\n",
      "\n",
      "R^2: 0.9775593132072161\n",
      "MSE: 42984187842339.65\n",
      "MAE: 2427398.1762917927\n",
      "_______________________\n",
      "\n",
      "Optimal model\n",
      "\n",
      "R^2: 0.9859450055984543\n",
      "MSE: 26921748209299.1\n",
      "MAE: 1937184.25\n"
     ]
    }
   ],
   "source": [
    "print('Basic model\\n')\n",
    "print_metrics(Y_test, Y_pred_base)\n",
    "print('_______________________')\n",
    "print('\\nOptimal model\\n')\n",
    "print_metrics(Y_test, Y_pred_best)"
   ]
  },
  {
   "cell_type": "markdown",
   "id": "1ef7077b",
   "metadata": {},
   "source": [
    "### Визуализация оптимальной модели"
   ]
  },
  {
   "cell_type": "code",
   "execution_count": 37,
   "id": "cff35819",
   "metadata": {},
   "outputs": [
    {
     "data": {
      "text/html": [
       "<div>\n",
       "<style scoped>\n",
       "    .dataframe tbody tr th:only-of-type {\n",
       "        vertical-align: middle;\n",
       "    }\n",
       "\n",
       "    .dataframe tbody tr th {\n",
       "        vertical-align: top;\n",
       "    }\n",
       "\n",
       "    .dataframe thead th {\n",
       "        text-align: right;\n",
       "    }\n",
       "</style>\n",
       "<table border=\"1\" class=\"dataframe\">\n",
       "  <thead>\n",
       "    <tr style=\"text-align: right;\">\n",
       "      <th></th>\n",
       "      <th>Y_test</th>\n",
       "      <th>Y_pred_best</th>\n",
       "    </tr>\n",
       "  </thead>\n",
       "  <tbody>\n",
       "    <tr>\n",
       "      <th>173</th>\n",
       "      <td>10967</td>\n",
       "      <td>10353.50</td>\n",
       "    </tr>\n",
       "    <tr>\n",
       "      <th>176</th>\n",
       "      <td>31791</td>\n",
       "      <td>34937.50</td>\n",
       "    </tr>\n",
       "    <tr>\n",
       "      <th>180</th>\n",
       "      <td>33660</td>\n",
       "      <td>34937.50</td>\n",
       "    </tr>\n",
       "    <tr>\n",
       "      <th>78</th>\n",
       "      <td>56466</td>\n",
       "      <td>52553.75</td>\n",
       "    </tr>\n",
       "    <tr>\n",
       "      <th>210</th>\n",
       "      <td>106858</td>\n",
       "      <td>105159.00</td>\n",
       "    </tr>\n",
       "  </tbody>\n",
       "</table>\n",
       "</div>"
      ],
      "text/plain": [
       "     Y_test  Y_pred_best\n",
       "173   10967     10353.50\n",
       "176   31791     34937.50\n",
       "180   33660     34937.50\n",
       "78    56466     52553.75\n",
       "210  106858    105159.00"
      ]
     },
     "execution_count": 37,
     "metadata": {},
     "output_type": "execute_result"
    }
   ],
   "source": [
    "res = pd.DataFrame({'Y_test': Y_test, 'Y_pred_best': Y_pred_best}).sort_values(by='Y_test')\n",
    "res.head()"
   ]
  },
  {
   "cell_type": "code",
   "execution_count": null,
   "id": "445b11a6",
   "metadata": {},
   "outputs": [],
   "source": []
  }
 ],
 "metadata": {
  "kernelspec": {
   "display_name": "Python 3 (ipykernel)",
   "language": "python",
   "name": "python3"
  },
  "language_info": {
   "codemirror_mode": {
    "name": "ipython",
    "version": 3
   },
   "file_extension": ".py",
   "mimetype": "text/x-python",
   "name": "python",
   "nbconvert_exporter": "python",
   "pygments_lexer": "ipython3",
   "version": "3.10.9"
  }
 },
 "nbformat": 4,
 "nbformat_minor": 5
}
